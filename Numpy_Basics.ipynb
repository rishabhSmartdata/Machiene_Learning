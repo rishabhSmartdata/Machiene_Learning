{
 "cells": [
  {
   "cell_type": "code",
   "execution_count": 37,
   "metadata": {},
   "outputs": [
    {
     "name": "stdout",
     "output_type": "stream",
     "text": [
      "[[0 1 2]\n",
      " [3 5 6]\n",
      " [7 8 9]\n",
      " [4 8 6]\n",
      " [6 9 3]]\n",
      "[[1 2]\n",
      " [5 6]\n",
      " [8 9]\n",
      " [8 6]\n",
      " [9 3]]\n",
      "1\n",
      "5\n",
      "8\n",
      "8\n",
      "9\n",
      "[[ 0  1  2  3]\n",
      " [ 4  5  6  7]\n",
      " [ 8  9 10 11]]\n",
      "[[ 3  7 11]]\n"
     ]
    }
   ],
   "source": [
    "import numpy as np\n",
    "arr1 = np.array([[0,1,2],[3,5,6],[7,8,9],[4,8,6],[6,9,3]])\n",
    "arr2 = arr1.reshape(3,5)\n",
    "print(arr1)\n",
    "print(arr1[:,1:3])\n",
    "for row in arr1:\n",
    "    print(row[1])\n",
    "\n",
    "arr3 = np.arange(12).reshape(3,4)\n",
    "print(arr3)\n",
    "\n",
    "n= np.arange(3,15,4).reshape(1,3)\n",
    "print(n)"
   ]
  }
 ],
 "metadata": {
  "kernelspec": {
   "display_name": "Python 3",
   "language": "python",
   "name": "python3"
  },
  "language_info": {
   "codemirror_mode": {
    "name": "ipython",
    "version": 3
   },
   "file_extension": ".py",
   "mimetype": "text/x-python",
   "name": "python",
   "nbconvert_exporter": "python",
   "pygments_lexer": "ipython3",
   "version": "3.7.3"
  }
 },
 "nbformat": 4,
 "nbformat_minor": 2
}
