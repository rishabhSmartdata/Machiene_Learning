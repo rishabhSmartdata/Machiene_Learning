{
 "cells": [
  {
   "cell_type": "code",
   "execution_count": null,
   "metadata": {},
   "outputs": [],
   "source": [
    "class phone:\n",
    "    def __init__(self,brand,model,name):\n",
    "        self.brand = brand\n",
    "        self.model = model\n",
    "        self.name = name\n",
    "        \n",
    "    def modelname(self):\n",
    "        return self.name\n",
    "\n",
    "\n",
    "class smartPhone(phone):\n",
    "    def __init__(self,brand,model,name,ram,camera):\n",
    "        super().__init__(brand,model,name)\n",
    "        self.ram = ram\n",
    "        self.camera = camera\n",
    "    \n",
    "    def ram1(self):\n",
    "        return self.ram\n",
    "    \n",
    "p1 = phone('Lenove','gr','rishabh')\n",
    "p2 = smartPhone('Lenove','gr','rishabh1','4gb','5mp')\n",
    "print(p2.ram1())\n",
    "print(p1.modelname())\n",
    "print(p2.modelname())\n",
    "\n"
   ]
  },
  {
   "cell_type": "code",
   "execution_count": null,
   "metadata": {},
   "outputs": [],
   "source": []
  }
 ],
 "metadata": {
  "kernelspec": {
   "display_name": "Python 3",
   "language": "python",
   "name": "python3"
  },
  "language_info": {
   "codemirror_mode": {
    "name": "ipython",
    "version": 3
   },
   "file_extension": ".py",
   "mimetype": "text/x-python",
   "name": "python",
   "nbconvert_exporter": "python",
   "pygments_lexer": "ipython3",
   "version": "3.7.3"
  }
 },
 "nbformat": 4,
 "nbformat_minor": 2
}
